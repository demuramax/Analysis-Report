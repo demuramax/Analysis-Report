{
 "cells": [
  {
   "cell_type": "code",
   "execution_count": 2,
   "metadata": {},
   "outputs": [],
   "source": [
    "import pandas as pd\n"
   ]
  },
  {
   "cell_type": "code",
   "execution_count": 3,
   "metadata": {},
   "outputs": [],
   "source": [
    "data1 = pd.read_csv('data1.csv', sep=';')\n",
    "data2 = pd.read_csv('data2.csv', sep=';')\n",
    "data3 = pd.read_csv('data3.csv', sep=';')"
   ]
  },
  {
   "cell_type": "code",
   "execution_count": 4,
   "metadata": {},
   "outputs": [
    {
     "name": "stdout",
     "output_type": "stream",
     "text": [
      "    ID     RegDate RegCountry RegSource\n",
      "0  721  2016-01-01          B        SE\n",
      "1  722  2016-01-01          A        SE\n",
      "2  723  2016-01-01          A        SE\n",
      "3  724  2016-01-01          A        SE\n",
      "4  841  2016-01-01          A        SE\n",
      "    ID     DepDate               Sum PaymInstr\n",
      "0  620  2016-01-03  3,06849682010272     Other\n",
      "1  620  2016-01-03  3,94521019727492     Other\n",
      "2  620  2016-01-03  4,20822421042658     Other\n",
      "3  620  2016-01-02  2,63014013151662     Other\n",
      "4  620  2016-01-02  1,75342675434441     Other\n",
      "       ID    GameDate  GameHour             SumRevA            SumRevB\n",
      "0    7315  2016-05-24         7  0,0191815856777494                  0\n",
      "1  154563  2016-12-23        20    17,3337595907928  -15,3388746803069\n",
      "2   37537  2016-09-19        18  0,0191815856777494                  0\n",
      "3    4629  2016-02-25        18                   0                  0\n",
      "4    4583  2016-02-12         3    9,64194373401535                  0\n"
     ]
    }
   ],
   "source": [
    "print(data1.head())\n",
    "print(data2.head())\n",
    "print(data3.head())"
   ]
  },
  {
   "cell_type": "code",
   "execution_count": 5,
   "metadata": {},
   "outputs": [],
   "source": [
    "data1['RegDate'] = pd.to_datetime(data1['RegDate'])\n",
    "data2['DepDate'] = pd.to_datetime(data2['DepDate'])\n",
    "data3['GameDate'] = pd.to_datetime(data3['GameDate'])\n",
    "\n",
    "data2['Sum'] = data2['Sum'].apply(lambda x: float(x.replace(',', '.')))\n",
    "data3['SumRevA'] = data3['SumRevA'].apply(lambda x: float(x.replace(',', '.')))\n",
    "data3['SumRevB'] = data3['SumRevB'].apply(lambda x: float(x.replace(',', '.')))"
   ]
  },
  {
   "cell_type": "code",
   "execution_count": 6,
   "metadata": {},
   "outputs": [],
   "source": [
    "data2['DepMonth'] = data2['DepDate'].dt.strftime('%Y-%m')\n",
    "data1['RegMonth'] = data1['RegDate'].dt.strftime('%Y-%m')\n"
   ]
  },
  {
   "cell_type": "code",
   "execution_count": 30,
   "metadata": {},
   "outputs": [
    {
     "name": "stdout",
     "output_type": "stream",
     "text": [
      "<class 'pandas.core.frame.DataFrame'>\n",
      "RangeIndex: 376902 entries, 0 to 376901\n",
      "Data columns (total 5 columns):\n",
      " #   Column      Non-Null Count   Dtype         \n",
      "---  ------      --------------   -----         \n",
      " 0   ID          376902 non-null  int64         \n",
      " 1   RegDate     376902 non-null  datetime64[ns]\n",
      " 2   RegCountry  376902 non-null  object        \n",
      " 3   RegSource   376902 non-null  object        \n",
      " 4   RegMonth    376902 non-null  object        \n",
      "dtypes: datetime64[ns](1), int64(1), object(3)\n",
      "memory usage: 14.4+ MB\n"
     ]
    }
   ],
   "source": [
    "data1.info()"
   ]
  },
  {
   "cell_type": "code",
   "execution_count": null,
   "metadata": {},
   "outputs": [],
   "source": []
  }
 ],
 "metadata": {
  "interpreter": {
   "hash": "40d3a090f54c6569ab1632332b64b2c03c39dcf918b08424e98f38b5ae0af88f"
  },
  "kernelspec": {
   "display_name": "Python 3.8.8 ('base')",
   "language": "python",
   "name": "python3"
  },
  "language_info": {
   "codemirror_mode": {
    "name": "ipython",
    "version": 3
   },
   "file_extension": ".py",
   "mimetype": "text/x-python",
   "name": "python",
   "nbconvert_exporter": "python",
   "pygments_lexer": "ipython3",
   "version": "3.8.8"
  },
  "orig_nbformat": 4
 },
 "nbformat": 4,
 "nbformat_minor": 2
}
