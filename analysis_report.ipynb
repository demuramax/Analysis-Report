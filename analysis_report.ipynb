{
 "cells": [
  {
   "cell_type": "code",
   "execution_count": 1,
   "metadata": {},
   "outputs": [],
   "source": [
    "import pandas as pd\n"
   ]
  },
  {
   "cell_type": "code",
   "execution_count": 2,
   "metadata": {},
   "outputs": [],
   "source": [
    "data1 = pd.read_csv('data1.csv', sep=';')\n",
    "data2 = pd.read_csv('data2.csv', sep=';')\n",
    "data3 = pd.read_csv('data3.csv', sep=';')"
   ]
  },
  {
   "cell_type": "code",
   "execution_count": 3,
   "metadata": {},
   "outputs": [
    {
     "name": "stdout",
     "output_type": "stream",
     "text": [
      "    ID     RegDate RegCountry RegSource\n",
      "0  721  2016-01-01          B        SE\n",
      "1  722  2016-01-01          A        SE\n",
      "2  723  2016-01-01          A        SE\n",
      "3  724  2016-01-01          A        SE\n",
      "4  841  2016-01-01          A        SE\n",
      "    ID     DepDate               Sum PaymInstr\n",
      "0  620  2016-01-03  3,06849682010272     Other\n",
      "1  620  2016-01-03  3,94521019727492     Other\n",
      "2  620  2016-01-03  4,20822421042658     Other\n",
      "3  620  2016-01-02  2,63014013151662     Other\n",
      "4  620  2016-01-02  1,75342675434441     Other\n",
      "       ID    GameDate  GameHour             SumRevA            SumRevB\n",
      "0    7315  2016-05-24         7  0,0191815856777494                  0\n",
      "1  154563  2016-12-23        20    17,3337595907928  -15,3388746803069\n",
      "2   37537  2016-09-19        18  0,0191815856777494                  0\n",
      "3    4629  2016-02-25        18                   0                  0\n",
      "4    4583  2016-02-12         3    9,64194373401535                  0\n"
     ]
    }
   ],
   "source": [
    "print(data1.head())\n",
    "print(data2.head())\n",
    "print(data3.head())"
   ]
  },
  {
   "cell_type": "code",
   "execution_count": 10,
   "metadata": {},
   "outputs": [
    {
     "name": "stdout",
     "output_type": "stream",
     "text": [
      "<class 'pandas.core.frame.DataFrame'>\n",
      "RangeIndex: 376902 entries, 0 to 376901\n",
      "Data columns (total 4 columns):\n",
      " #   Column      Non-Null Count   Dtype         \n",
      "---  ------      --------------   -----         \n",
      " 0   ID          376902 non-null  int64         \n",
      " 1   RegDate     376902 non-null  datetime64[ns]\n",
      " 2   RegCountry  376902 non-null  object        \n",
      " 3   RegSource   376902 non-null  object        \n",
      "dtypes: datetime64[ns](1), int64(1), object(2)\n",
      "memory usage: 11.5+ MB\n"
     ]
    }
   ],
   "source": [
    "data1.info()"
   ]
  },
  {
   "cell_type": "code",
   "execution_count": 7,
   "metadata": {},
   "outputs": [],
   "source": [
    "data1['RegDate'] = pd.to_datetime(data1['RegDate'])\n",
    "data2['DepDate'] = pd.to_datetime(data2['DepDate'])\n",
    "data3['GameDate'] = pd.to_datetime(data3['GameDate'])\n",
    "\n",
    "data2['Sum'] = data2['Sum'].apply(lambda x: float(x.replace(',', '.')))\n",
    "data3['SumRevA'] = data3['SumRevA'].apply(lambda x: float(x.replace(',', '.')))\n",
    "data3['SumRevB'] = data3['SumRevB'].apply(lambda x: float(x.replace(',', '.')))"
   ]
  },
  {
   "cell_type": "code",
   "execution_count": 11,
   "metadata": {},
   "outputs": [],
   "source": [
    "data2['DepMonth'] = data2['DepDate'].dt.strftime('%Y-%m')\n",
    "data1['RegMonth'] = data1['RegDate'].dt.strftime('%Y-%m')\n"
   ]
  },
  {
   "cell_type": "code",
   "execution_count": 12,
   "metadata": {},
   "outputs": [
    {
     "data": {
      "text/html": [
       "<div>\n",
       "<style scoped>\n",
       "    .dataframe tbody tr th:only-of-type {\n",
       "        vertical-align: middle;\n",
       "    }\n",
       "\n",
       "    .dataframe tbody tr th {\n",
       "        vertical-align: top;\n",
       "    }\n",
       "\n",
       "    .dataframe thead th {\n",
       "        text-align: right;\n",
       "    }\n",
       "</style>\n",
       "<table border=\"1\" class=\"dataframe\">\n",
       "  <thead>\n",
       "    <tr style=\"text-align: right;\">\n",
       "      <th></th>\n",
       "      <th>ID</th>\n",
       "      <th>RegDate</th>\n",
       "      <th>RegCountry</th>\n",
       "      <th>RegSource</th>\n",
       "      <th>RegMonth</th>\n",
       "    </tr>\n",
       "  </thead>\n",
       "  <tbody>\n",
       "    <tr>\n",
       "      <th>0</th>\n",
       "      <td>721</td>\n",
       "      <td>2016-01-01</td>\n",
       "      <td>B</td>\n",
       "      <td>SE</td>\n",
       "      <td>2016-01</td>\n",
       "    </tr>\n",
       "    <tr>\n",
       "      <th>1</th>\n",
       "      <td>722</td>\n",
       "      <td>2016-01-01</td>\n",
       "      <td>A</td>\n",
       "      <td>SE</td>\n",
       "      <td>2016-01</td>\n",
       "    </tr>\n",
       "    <tr>\n",
       "      <th>2</th>\n",
       "      <td>723</td>\n",
       "      <td>2016-01-01</td>\n",
       "      <td>A</td>\n",
       "      <td>SE</td>\n",
       "      <td>2016-01</td>\n",
       "    </tr>\n",
       "    <tr>\n",
       "      <th>3</th>\n",
       "      <td>724</td>\n",
       "      <td>2016-01-01</td>\n",
       "      <td>A</td>\n",
       "      <td>SE</td>\n",
       "      <td>2016-01</td>\n",
       "    </tr>\n",
       "    <tr>\n",
       "      <th>4</th>\n",
       "      <td>841</td>\n",
       "      <td>2016-01-01</td>\n",
       "      <td>A</td>\n",
       "      <td>SE</td>\n",
       "      <td>2016-01</td>\n",
       "    </tr>\n",
       "  </tbody>\n",
       "</table>\n",
       "</div>"
      ],
      "text/plain": [
       "    ID    RegDate RegCountry RegSource RegMonth\n",
       "0  721 2016-01-01          B        SE  2016-01\n",
       "1  722 2016-01-01          A        SE  2016-01\n",
       "2  723 2016-01-01          A        SE  2016-01\n",
       "3  724 2016-01-01          A        SE  2016-01\n",
       "4  841 2016-01-01          A        SE  2016-01"
      ]
     },
     "execution_count": 12,
     "metadata": {},
     "output_type": "execute_result"
    }
   ],
   "source": [
    "data1.head()"
   ]
  },
  {
   "cell_type": "code",
   "execution_count": 21,
   "metadata": {},
   "outputs": [
    {
     "data": {
      "text/plain": [
       "376902"
      ]
     },
     "execution_count": 21,
     "metadata": {},
     "output_type": "execute_result"
    }
   ],
   "source": [
    "data1['ID'].nunique()"
   ]
  },
  {
   "cell_type": "code",
   "execution_count": 30,
   "metadata": {},
   "outputs": [
    {
     "data": {
      "text/html": [
       "<div>\n",
       "<style scoped>\n",
       "    .dataframe tbody tr th:only-of-type {\n",
       "        vertical-align: middle;\n",
       "    }\n",
       "\n",
       "    .dataframe tbody tr th {\n",
       "        vertical-align: top;\n",
       "    }\n",
       "\n",
       "    .dataframe thead th {\n",
       "        text-align: right;\n",
       "    }\n",
       "</style>\n",
       "<table border=\"1\" class=\"dataframe\">\n",
       "  <thead>\n",
       "    <tr style=\"text-align: right;\">\n",
       "      <th></th>\n",
       "      <th>ID</th>\n",
       "      <th>GameDate</th>\n",
       "      <th>GameHour</th>\n",
       "      <th>SumRevA</th>\n",
       "      <th>SumRevB</th>\n",
       "    </tr>\n",
       "  </thead>\n",
       "  <tbody>\n",
       "    <tr>\n",
       "      <th>0</th>\n",
       "      <td>7315</td>\n",
       "      <td>2016-05-24</td>\n",
       "      <td>7</td>\n",
       "      <td>0.019182</td>\n",
       "      <td>0.000000</td>\n",
       "    </tr>\n",
       "    <tr>\n",
       "      <th>1</th>\n",
       "      <td>154563</td>\n",
       "      <td>2016-12-23</td>\n",
       "      <td>20</td>\n",
       "      <td>17.333760</td>\n",
       "      <td>-15.338875</td>\n",
       "    </tr>\n",
       "    <tr>\n",
       "      <th>2</th>\n",
       "      <td>37537</td>\n",
       "      <td>2016-09-19</td>\n",
       "      <td>18</td>\n",
       "      <td>0.019182</td>\n",
       "      <td>0.000000</td>\n",
       "    </tr>\n",
       "    <tr>\n",
       "      <th>3</th>\n",
       "      <td>4629</td>\n",
       "      <td>2016-02-25</td>\n",
       "      <td>18</td>\n",
       "      <td>0.000000</td>\n",
       "      <td>0.000000</td>\n",
       "    </tr>\n",
       "    <tr>\n",
       "      <th>4</th>\n",
       "      <td>4583</td>\n",
       "      <td>2016-02-12</td>\n",
       "      <td>3</td>\n",
       "      <td>9.641944</td>\n",
       "      <td>0.000000</td>\n",
       "    </tr>\n",
       "    <tr>\n",
       "      <th>...</th>\n",
       "      <td>...</td>\n",
       "      <td>...</td>\n",
       "      <td>...</td>\n",
       "      <td>...</td>\n",
       "      <td>...</td>\n",
       "    </tr>\n",
       "    <tr>\n",
       "      <th>1075775</th>\n",
       "      <td>314692</td>\n",
       "      <td>2017-01-27</td>\n",
       "      <td>16</td>\n",
       "      <td>0.076726</td>\n",
       "      <td>0.000000</td>\n",
       "    </tr>\n",
       "    <tr>\n",
       "      <th>1075776</th>\n",
       "      <td>8945</td>\n",
       "      <td>2016-10-23</td>\n",
       "      <td>17</td>\n",
       "      <td>0.140665</td>\n",
       "      <td>0.000000</td>\n",
       "    </tr>\n",
       "    <tr>\n",
       "      <th>1075777</th>\n",
       "      <td>5588</td>\n",
       "      <td>2017-01-07</td>\n",
       "      <td>13</td>\n",
       "      <td>0.006394</td>\n",
       "      <td>0.000000</td>\n",
       "    </tr>\n",
       "    <tr>\n",
       "      <th>1075778</th>\n",
       "      <td>249127</td>\n",
       "      <td>2017-01-28</td>\n",
       "      <td>18</td>\n",
       "      <td>0.000000</td>\n",
       "      <td>0.000000</td>\n",
       "    </tr>\n",
       "    <tr>\n",
       "      <th>1075779</th>\n",
       "      <td>12332</td>\n",
       "      <td>2016-12-07</td>\n",
       "      <td>10</td>\n",
       "      <td>0.172634</td>\n",
       "      <td>0.000000</td>\n",
       "    </tr>\n",
       "  </tbody>\n",
       "</table>\n",
       "<p>1075780 rows × 5 columns</p>\n",
       "</div>"
      ],
      "text/plain": [
       "             ID   GameDate  GameHour    SumRevA    SumRevB\n",
       "0          7315 2016-05-24         7   0.019182   0.000000\n",
       "1        154563 2016-12-23        20  17.333760 -15.338875\n",
       "2         37537 2016-09-19        18   0.019182   0.000000\n",
       "3          4629 2016-02-25        18   0.000000   0.000000\n",
       "4          4583 2016-02-12         3   9.641944   0.000000\n",
       "...         ...        ...       ...        ...        ...\n",
       "1075775  314692 2017-01-27        16   0.076726   0.000000\n",
       "1075776    8945 2016-10-23        17   0.140665   0.000000\n",
       "1075777    5588 2017-01-07        13   0.006394   0.000000\n",
       "1075778  249127 2017-01-28        18   0.000000   0.000000\n",
       "1075779   12332 2016-12-07        10   0.172634   0.000000\n",
       "\n",
       "[1075780 rows x 5 columns]"
      ]
     },
     "execution_count": 30,
     "metadata": {},
     "output_type": "execute_result"
    }
   ],
   "source": [
    "data3"
   ]
  },
  {
   "cell_type": "code",
   "execution_count": 35,
   "metadata": {},
   "outputs": [
    {
     "name": "stderr",
     "output_type": "stream",
     "text": [
      "<ipython-input-35-5e5ac32d4402>:1: FutureWarning: Indexing with multiple keys (implicitly converted to a tuple of keys) will be deprecated, use a list instead.\n",
      "  data3.groupby('ID', as_index=True)['SumRevA', 'SumRevB'].sum()\n"
     ]
    },
    {
     "data": {
      "text/html": [
       "<div>\n",
       "<style scoped>\n",
       "    .dataframe tbody tr th:only-of-type {\n",
       "        vertical-align: middle;\n",
       "    }\n",
       "\n",
       "    .dataframe tbody tr th {\n",
       "        vertical-align: top;\n",
       "    }\n",
       "\n",
       "    .dataframe thead th {\n",
       "        text-align: right;\n",
       "    }\n",
       "</style>\n",
       "<table border=\"1\" class=\"dataframe\">\n",
       "  <thead>\n",
       "    <tr style=\"text-align: right;\">\n",
       "      <th></th>\n",
       "      <th>SumRevA</th>\n",
       "      <th>SumRevB</th>\n",
       "    </tr>\n",
       "    <tr>\n",
       "      <th>ID</th>\n",
       "      <th></th>\n",
       "      <th></th>\n",
       "    </tr>\n",
       "  </thead>\n",
       "  <tbody>\n",
       "    <tr>\n",
       "      <th>8</th>\n",
       "      <td>0.537084</td>\n",
       "      <td>0.000000</td>\n",
       "    </tr>\n",
       "    <tr>\n",
       "      <th>9</th>\n",
       "      <td>9.680307</td>\n",
       "      <td>6.476982</td>\n",
       "    </tr>\n",
       "    <tr>\n",
       "      <th>17</th>\n",
       "      <td>23.887468</td>\n",
       "      <td>0.000000</td>\n",
       "    </tr>\n",
       "    <tr>\n",
       "      <th>22</th>\n",
       "      <td>1.406650</td>\n",
       "      <td>0.000000</td>\n",
       "    </tr>\n",
       "    <tr>\n",
       "      <th>31</th>\n",
       "      <td>30.939898</td>\n",
       "      <td>0.000000</td>\n",
       "    </tr>\n",
       "    <tr>\n",
       "      <th>...</th>\n",
       "      <td>...</td>\n",
       "      <td>...</td>\n",
       "    </tr>\n",
       "    <tr>\n",
       "      <th>376874</th>\n",
       "      <td>23.107417</td>\n",
       "      <td>0.000000</td>\n",
       "    </tr>\n",
       "    <tr>\n",
       "      <th>376885</th>\n",
       "      <td>1.285166</td>\n",
       "      <td>0.000000</td>\n",
       "    </tr>\n",
       "    <tr>\n",
       "      <th>376890</th>\n",
       "      <td>0.901535</td>\n",
       "      <td>0.000000</td>\n",
       "    </tr>\n",
       "    <tr>\n",
       "      <th>376891</th>\n",
       "      <td>0.639386</td>\n",
       "      <td>0.000000</td>\n",
       "    </tr>\n",
       "    <tr>\n",
       "      <th>376897</th>\n",
       "      <td>0.000000</td>\n",
       "      <td>8.209719</td>\n",
       "    </tr>\n",
       "  </tbody>\n",
       "</table>\n",
       "<p>37473 rows × 2 columns</p>\n",
       "</div>"
      ],
      "text/plain": [
       "          SumRevA   SumRevB\n",
       "ID                         \n",
       "8        0.537084  0.000000\n",
       "9        9.680307  6.476982\n",
       "17      23.887468  0.000000\n",
       "22       1.406650  0.000000\n",
       "31      30.939898  0.000000\n",
       "...           ...       ...\n",
       "376874  23.107417  0.000000\n",
       "376885   1.285166  0.000000\n",
       "376890   0.901535  0.000000\n",
       "376891   0.639386  0.000000\n",
       "376897   0.000000  8.209719\n",
       "\n",
       "[37473 rows x 2 columns]"
      ]
     },
     "execution_count": 35,
     "metadata": {},
     "output_type": "execute_result"
    }
   ],
   "source": [
    "data3.groupby('ID', as_index=True)['SumRevA', 'SumRevB'].sum()"
   ]
  },
  {
   "cell_type": "code",
   "execution_count": 38,
   "metadata": {},
   "outputs": [
    {
     "data": {
      "text/plain": [
       "ID\n",
       "8           2.191783\n",
       "9          18.410981\n",
       "17        135.089904\n",
       "31         44.520431\n",
       "32          2.250548\n",
       "             ...    \n",
       "376861      4.141672\n",
       "376874     19.181586\n",
       "376885      4.359635\n",
       "376890      5.099704\n",
       "376897      8.298759\n",
       "Name: Sum, Length: 22702, dtype: float64"
      ]
     },
     "execution_count": 38,
     "metadata": {},
     "output_type": "execute_result"
    }
   ],
   "source": [
    "data2.groupby('ID', as_index=True)['Sum'].sum()"
   ]
  },
  {
   "cell_type": "code",
   "execution_count": null,
   "metadata": {},
   "outputs": [],
   "source": []
  }
 ],
 "metadata": {
  "interpreter": {
   "hash": "40d3a090f54c6569ab1632332b64b2c03c39dcf918b08424e98f38b5ae0af88f"
  },
  "kernelspec": {
   "display_name": "Python 3.8.8 ('base')",
   "language": "python",
   "name": "python3"
  },
  "language_info": {
   "codemirror_mode": {
    "name": "ipython",
    "version": 3
   },
   "file_extension": ".py",
   "mimetype": "text/x-python",
   "name": "python",
   "nbconvert_exporter": "python",
   "pygments_lexer": "ipython3",
   "version": "3.8.8"
  },
  "orig_nbformat": 4
 },
 "nbformat": 4,
 "nbformat_minor": 2
}
